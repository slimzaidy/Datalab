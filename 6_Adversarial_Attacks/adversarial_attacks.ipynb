{
 "cells": [
  {
   "cell_type": "code",
   "execution_count": 1,
   "id": "961d8b3e",
   "metadata": {},
   "outputs": [
    {
     "name": "stderr",
     "output_type": "stream",
     "text": [
      "2022-02-06 16:25:31.364527: W tensorflow/stream_executor/platform/default/dso_loader.cc:64] Could not load dynamic library 'libcudart.so.11.0'; dlerror: libcudart.so.11.0: cannot open shared object file: No such file or directory\n",
      "2022-02-06 16:25:31.364608: I tensorflow/stream_executor/cuda/cudart_stub.cc:29] Ignore above cudart dlerror if you do not have a GPU set up on your machine.\n"
     ]
    }
   ],
   "source": [
    "import requests\n",
    "import json\n",
    "import numpy as np\n",
    "import tensorflow as tf"
   ]
  },
  {
   "cell_type": "code",
   "execution_count": 18,
   "id": "59dc7026",
   "metadata": {},
   "outputs": [],
   "source": [
    "%matplotlib inline\n",
    "import matplotlib.pyplot as plt"
   ]
  },
  {
   "cell_type": "code",
   "execution_count": 2347,
   "id": "2bd389d2",
   "metadata": {},
   "outputs": [],
   "source": [
    "host = 'http://127.0.0.1:8000'"
   ]
  },
  {
   "cell_type": "code",
   "execution_count": 2348,
   "id": "96046a43",
   "metadata": {},
   "outputs": [],
   "source": [
    "url = f\"{host}/evasion/api/get_challenge\"\n",
    "response = requests.get(url)"
   ]
  },
  {
   "cell_type": "code",
   "execution_count": 2349,
   "id": "dfb1616a",
   "metadata": {},
   "outputs": [],
   "source": [
    "response = json.loads(response.text)"
   ]
  },
  {
   "cell_type": "code",
   "execution_count": 2350,
   "id": "a79bc85f",
   "metadata": {},
   "outputs": [],
   "source": [
    "headers = {'Content-Type': 'application/octet-stream'}"
   ]
  },
  {
   "cell_type": "code",
   "execution_count": 2351,
   "id": "c4d62812",
   "metadata": {},
   "outputs": [
    {
     "data": {
      "text/plain": [
       "{'id': 7,\n",
       " 'start_time': '2022-02-06T22:33:13.393Z',\n",
       " 'end_time': '2022-02-06T22:38:13.393Z',\n",
       " 'token': '',\n",
       " 'indices': [13259,\n",
       "  28132,\n",
       "  24559,\n",
       "  11368,\n",
       "  38221,\n",
       "  19010,\n",
       "  41288,\n",
       "  25894,\n",
       "  33691,\n",
       "  34020,\n",
       "  28204,\n",
       "  18509,\n",
       "  19005,\n",
       "  38,\n",
       "  35139,\n",
       "  19317,\n",
       "  42396,\n",
       "  9384,\n",
       "  39404,\n",
       "  5595,\n",
       "  31034,\n",
       "  38469,\n",
       "  23449,\n",
       "  16011,\n",
       "  8219,\n",
       "  15229,\n",
       "  39616,\n",
       "  16657,\n",
       "  29140,\n",
       "  43327,\n",
       "  47941,\n",
       "  10956,\n",
       "  19971,\n",
       "  18294,\n",
       "  26589,\n",
       "  36424,\n",
       "  25201,\n",
       "  37995,\n",
       "  3301,\n",
       "  10535,\n",
       "  17916,\n",
       "  47618,\n",
       "  23881,\n",
       "  11991,\n",
       "  1541,\n",
       "  1273,\n",
       "  24438,\n",
       "  10041,\n",
       "  18776,\n",
       "  9441,\n",
       "  37387,\n",
       "  48941,\n",
       "  1201,\n",
       "  47953,\n",
       "  30670,\n",
       "  443,\n",
       "  5129,\n",
       "  9176,\n",
       "  11448,\n",
       "  14940,\n",
       "  31247,\n",
       "  10365,\n",
       "  48247,\n",
       "  37806,\n",
       "  11587,\n",
       "  40125,\n",
       "  43620,\n",
       "  20989,\n",
       "  27866,\n",
       "  22782,\n",
       "  41240,\n",
       "  26454,\n",
       "  33572,\n",
       "  15118,\n",
       "  32916,\n",
       "  9064,\n",
       "  26942,\n",
       "  21101,\n",
       "  22940,\n",
       "  10783,\n",
       "  14410,\n",
       "  25631,\n",
       "  21284,\n",
       "  29694,\n",
       "  29681,\n",
       "  22843,\n",
       "  37415,\n",
       "  10006,\n",
       "  39451,\n",
       "  22328,\n",
       "  47964,\n",
       "  4926,\n",
       "  35976,\n",
       "  34332,\n",
       "  39131,\n",
       "  24028,\n",
       "  11363,\n",
       "  19919,\n",
       "  48201,\n",
       "  10085],\n",
       " 'targets': [6,\n",
       "  1,\n",
       "  8,\n",
       "  0,\n",
       "  6,\n",
       "  3,\n",
       "  0,\n",
       "  4,\n",
       "  2,\n",
       "  3,\n",
       "  4,\n",
       "  1,\n",
       "  0,\n",
       "  9,\n",
       "  7,\n",
       "  3,\n",
       "  6,\n",
       "  2,\n",
       "  9,\n",
       "  6,\n",
       "  5,\n",
       "  9,\n",
       "  1,\n",
       "  8,\n",
       "  1,\n",
       "  3,\n",
       "  0,\n",
       "  3,\n",
       "  3,\n",
       "  9,\n",
       "  4,\n",
       "  4,\n",
       "  9,\n",
       "  1,\n",
       "  8,\n",
       "  2,\n",
       "  8,\n",
       "  0,\n",
       "  9,\n",
       "  5,\n",
       "  2,\n",
       "  9,\n",
       "  5,\n",
       "  9,\n",
       "  4,\n",
       "  8,\n",
       "  3,\n",
       "  1,\n",
       "  0,\n",
       "  7,\n",
       "  6,\n",
       "  2,\n",
       "  2,\n",
       "  7,\n",
       "  1,\n",
       "  1,\n",
       "  8,\n",
       "  6,\n",
       "  1,\n",
       "  8,\n",
       "  6,\n",
       "  5,\n",
       "  2,\n",
       "  7,\n",
       "  8,\n",
       "  9,\n",
       "  6,\n",
       "  4,\n",
       "  6,\n",
       "  3,\n",
       "  4,\n",
       "  4,\n",
       "  4,\n",
       "  1,\n",
       "  5,\n",
       "  3,\n",
       "  1,\n",
       "  9,\n",
       "  1,\n",
       "  9,\n",
       "  1,\n",
       "  4,\n",
       "  6,\n",
       "  7,\n",
       "  9,\n",
       "  6,\n",
       "  9,\n",
       "  7,\n",
       "  7,\n",
       "  2,\n",
       "  9,\n",
       "  9,\n",
       "  9,\n",
       "  2,\n",
       "  7,\n",
       "  0,\n",
       "  0,\n",
       "  3,\n",
       "  3,\n",
       "  9],\n",
       " 'now': '2022-02-06T22:36:09.886Z'}"
      ]
     },
     "execution_count": 2351,
     "metadata": {},
     "output_type": "execute_result"
    }
   ],
   "source": [
    "response"
   ]
  },
  {
   "cell_type": "code",
   "execution_count": 2352,
   "id": "2b30ec34",
   "metadata": {},
   "outputs": [],
   "source": [
    "challenge_id, indices, targets = response['id'], response['indices'], response['targets']"
   ]
  },
  {
   "cell_type": "code",
   "execution_count": 2353,
   "id": "01d5e635",
   "metadata": {},
   "outputs": [
    {
     "data": {
      "text/plain": [
       "100"
      ]
     },
     "execution_count": 2353,
     "metadata": {},
     "output_type": "execute_result"
    }
   ],
   "source": [
    "len(indices)"
   ]
  },
  {
   "cell_type": "code",
   "execution_count": 13,
   "id": "a25c9996",
   "metadata": {},
   "outputs": [],
   "source": [
    "def load_data():\n",
    "    (x_train, y_train), (x_test, y_test) = tf.keras.datasets.cifar10.load_data()\n",
    "    x_train = x_train.astype('float32') / 256\n",
    "    x_test = x_test.astype('float32') / 256\n",
    "\n",
    "    # Convert class vectors to binary class matrices.\n",
    "    y_train = tf.keras.utils.to_categorical(y_train, num_classes=10)\n",
    "    y_test = tf.keras.utils.to_categorical(y_test, num_classes=10)\n",
    "    return ((x_train, y_train), (x_test, y_test))"
   ]
  },
  {
   "cell_type": "code",
   "execution_count": 35,
   "id": "2525f292",
   "metadata": {},
   "outputs": [],
   "source": [
    "(x_train, y_train), (x_test, y_test) = load_data()"
   ]
  },
  {
   "cell_type": "code",
   "execution_count": 36,
   "id": "fb57aa3a",
   "metadata": {},
   "outputs": [
    {
     "data": {
      "text/plain": [
       "(50000, 32, 32, 3)"
      ]
     },
     "execution_count": 36,
     "metadata": {},
     "output_type": "execute_result"
    }
   ],
   "source": [
    "x_train.shape"
   ]
  },
  {
   "cell_type": "code",
   "execution_count": 388,
   "id": "9b8d8d20",
   "metadata": {},
   "outputs": [
    {
     "data": {
      "text/plain": [
       "<matplotlib.image.AxesImage at 0x7f615ee8abe0>"
      ]
     },
     "execution_count": 388,
     "metadata": {},
     "output_type": "execute_result"
    },
    {
     "data": {
      "image/png": "[encoded data removed]",
      "text/plain": [
       "<Figure size 432x288 with 1 Axes>"
      ]
     },
     "metadata": {
      "needs_background": "light"
     },
     "output_type": "display_data"
    }
   ],
   "source": [
    "plt.imshow(x_train[0])"
   ]
  },
  {
   "cell_type": "code",
   "execution_count": 43,
   "id": "1589cd26",
   "metadata": {},
   "outputs": [
    {
     "name": "stdout",
     "output_type": "stream",
     "text": [
      "[0. 0. 0. 0. 0. 0. 1. 0. 0. 0.]\n"
     ]
    }
   ],
   "source": [
    "print(y_train[0])"
   ]
  },
  {
   "cell_type": "code",
   "execution_count": 234,
   "id": "b7142e0f",
   "metadata": {},
   "outputs": [],
   "source": [
    "def pred_from_server(img):\n",
    "    result = 0\n",
    "    pred_url = f'{host}/evasion/api/predict'\n",
    "    response_predict = requests.post(pred_url, data=img.tobytes(), headers=headers)\n",
    "    if response_predict.status_code == 200:\n",
    "        pred = np.array(json.loads(response_predict.text)['data'])\n",
    "        result = np.argmax(pred, axis=1)[0]\n",
    "    return result"
   ]
  },
  {
   "cell_type": "code",
   "execution_count": 235,
   "id": "dca591ee",
   "metadata": {},
   "outputs": [
    {
     "data": {
      "text/plain": [
       "6"
      ]
     },
     "execution_count": 235,
     "metadata": {},
     "output_type": "execute_result"
    }
   ],
   "source": [
    "pred_from_server(x_train[0])"
   ]
  },
  {
   "cell_type": "code",
   "execution_count": 66,
   "id": "418e4794",
   "metadata": {},
   "outputs": [],
   "source": [
    "def generate_model():\n",
    "    return tf.keras.models.Sequential([\n",
    "    tf.keras.layers.Conv2D(32, (3, 3), padding='same', input_shape=x_train.shape[1:]),\n",
    "    tf.keras.layers.Activation('relu'),\n",
    "    tf.keras.layers.Conv2D(32, (3, 3)),\n",
    "    tf.keras.layers.Activation('relu'),\n",
    "    tf.keras.layers.MaxPooling2D(pool_size=(2, 2)),\n",
    "    tf.keras.layers.Dropout(0.25),\n",
    "\n",
    "    tf.keras.layers.Conv2D(64, (3, 3), padding='same'),\n",
    "    tf.keras.layers.Activation('relu'),\n",
    "    tf.keras.layers.Conv2D(64, (3, 3)),\n",
    "    tf.keras.layers.Activation('relu'),\n",
    "    tf.keras.layers.MaxPooling2D(pool_size=(2, 2)),\n",
    "    tf.keras.layers.Dropout(0.25),\n",
    "\n",
    "    tf.keras.layers.Flatten(),\n",
    "    tf.keras.layers.Dense(512),\n",
    "    tf.keras.layers.Activation('relu'),\n",
    "    tf.keras.layers.Dropout(0.5),\n",
    "    tf.keras.layers.Dense(10),\n",
    "    tf.keras.layers.Activation('softmax')\n",
    "    ])"
   ]
  },
  {
   "cell_type": "code",
   "execution_count": 67,
   "id": "7a6cf98a",
   "metadata": {},
   "outputs": [
    {
     "name": "stderr",
     "output_type": "stream",
     "text": [
      "2022-02-06 16:59:05.223765: W tensorflow/stream_executor/platform/default/dso_loader.cc:64] Could not load dynamic library 'libcuda.so.1'; dlerror: libcuda.so.1: cannot open shared object file: No such file or directory\n",
      "2022-02-06 16:59:05.223930: W tensorflow/stream_executor/cuda/cuda_driver.cc:269] failed call to cuInit: UNKNOWN ERROR (303)\n",
      "2022-02-06 16:59:05.224027: I tensorflow/stream_executor/cuda/cuda_diagnostics.cc:156] kernel driver does not appear to be running on this host (stud19.datalab.sec.tu-bs.de): /proc/driver/nvidia/version does not exist\n",
      "2022-02-06 16:59:05.225276: I tensorflow/core/platform/cpu_feature_guard.cc:142] This TensorFlow binary is optimized with oneAPI Deep Neural Network Library (oneDNN) to use the following CPU instructions in performance-critical operations:  AVX2 FMA\n",
      "To enable them in other operations, rebuild TensorFlow with the appropriate compiler flags.\n"
     ]
    }
   ],
   "source": [
    "model = generate_model()"
   ]
  },
  {
   "cell_type": "code",
   "execution_count": 68,
   "id": "92cf90ad",
   "metadata": {},
   "outputs": [],
   "source": [
    "def compile_model(model):\n",
    "    model.compile(loss=tf.keras.losses.CategoricalCrossentropy(\n",
    "    from_logits=True),\n",
    "                optimizer='adam',\n",
    "                metrics=['accuracy'])\n",
    "    return model"
   ]
  },
  {
   "cell_type": "code",
   "execution_count": 69,
   "id": "d9ab76b4",
   "metadata": {},
   "outputs": [],
   "source": [
    "model = compile_model(model)"
   ]
  },
  {
   "cell_type": "code",
   "execution_count": 70,
   "id": "15981d35",
   "metadata": {},
   "outputs": [],
   "source": [
    "def train_model(model, x_train, y_train, x_test, y_test, epochs=30):\n",
    "    model.fit(x_train, y_train, batch_size=256, epochs=epochs, validation_data=(x_test, y_test), shuffle=True)"
   ]
  },
  {
   "cell_type": "code",
   "execution_count": 71,
   "id": "d64f1273",
   "metadata": {},
   "outputs": [
    {
     "name": "stderr",
     "output_type": "stream",
     "text": [
      "2022-02-06 17:04:17.735816: I tensorflow/compiler/mlir/mlir_graph_optimization_pass.cc:185] None of the MLIR Optimization Passes are enabled (registered 2)\n",
      "/home/stud19/env/lib/python3.8/site-packages/keras/backend.py:4846: UserWarning: \"`categorical_crossentropy` received `from_logits=True`, but the `output` argument was produced by a sigmoid or softmax activation and thus does not represent logits. Was this intended?\"\n",
      "  warnings.warn(\n"
     ]
    },
    {
     "name": "stdout",
     "output_type": "stream",
     "text": [
      "Epoch 1/30\n",
      "196/196 [==============================] - 84s 425ms/step - loss: 1.7352 - accuracy: 0.3617 - val_loss: 1.3960 - val_accuracy: 0.4943\n",
      "Epoch 2/30\n",
      "196/196 [==============================] - 81s 416ms/step - loss: 1.3198 - accuracy: 0.5259 - val_loss: 1.1363 - val_accuracy: 0.5995\n",
      "Epoch 3/30\n",
      "196/196 [==============================] - 81s 413ms/step - loss: 1.1415 - accuracy: 0.5956 - val_loss: 0.9879 - val_accuracy: 0.6548\n",
      "Epoch 4/30\n",
      "196/196 [==============================] - 81s 414ms/step - loss: 1.0177 - accuracy: 0.6399 - val_loss: 0.9045 - val_accuracy: 0.6838\n",
      "Epoch 5/30\n",
      "196/196 [==============================] - 81s 413ms/step - loss: 0.9316 - accuracy: 0.6720 - val_loss: 0.8499 - val_accuracy: 0.7076\n",
      "Epoch 6/30\n",
      "196/196 [==============================] - 81s 411ms/step - loss: 0.8672 - accuracy: 0.6961 - val_loss: 0.8180 - val_accuracy: 0.7183\n",
      "Epoch 7/30\n",
      "196/196 [==============================] - 82s 416ms/step - loss: 0.8051 - accuracy: 0.7159 - val_loss: 0.7483 - val_accuracy: 0.7393\n",
      "Epoch 8/30\n",
      "196/196 [==============================] - 81s 413ms/step - loss: 0.7636 - accuracy: 0.7324 - val_loss: 0.7508 - val_accuracy: 0.7399\n",
      "Epoch 9/30\n",
      "196/196 [==============================] - 81s 413ms/step - loss: 0.7249 - accuracy: 0.7458 - val_loss: 0.7240 - val_accuracy: 0.7499\n",
      "Epoch 10/30\n",
      "196/196 [==============================] - 84s 427ms/step - loss: 0.6907 - accuracy: 0.7549 - val_loss: 0.6899 - val_accuracy: 0.7596\n",
      "Epoch 11/30\n",
      "196/196 [==============================] - 85s 434ms/step - loss: 0.6595 - accuracy: 0.7680 - val_loss: 0.6818 - val_accuracy: 0.7614\n",
      "Epoch 12/30\n",
      "196/196 [==============================] - 81s 411ms/step - loss: 0.6298 - accuracy: 0.7778 - val_loss: 0.6778 - val_accuracy: 0.7694\n",
      "Epoch 13/30\n",
      "196/196 [==============================] - 82s 417ms/step - loss: 0.6063 - accuracy: 0.7868 - val_loss: 0.6508 - val_accuracy: 0.7737\n",
      "Epoch 14/30\n",
      "196/196 [==============================] - 82s 418ms/step - loss: 0.5864 - accuracy: 0.7930 - val_loss: 0.6654 - val_accuracy: 0.7703\n",
      "Epoch 15/30\n",
      "196/196 [==============================] - 81s 414ms/step - loss: 0.5594 - accuracy: 0.8025 - val_loss: 0.6444 - val_accuracy: 0.7799\n",
      "Epoch 16/30\n",
      "196/196 [==============================] - 81s 416ms/step - loss: 0.5394 - accuracy: 0.8105 - val_loss: 0.6354 - val_accuracy: 0.7831\n",
      "Epoch 17/30\n",
      "196/196 [==============================] - 80s 411ms/step - loss: 0.5242 - accuracy: 0.8164 - val_loss: 0.6354 - val_accuracy: 0.7840\n",
      "Epoch 18/30\n",
      "196/196 [==============================] - 84s 427ms/step - loss: 0.5058 - accuracy: 0.8220 - val_loss: 0.6326 - val_accuracy: 0.7840\n",
      "Epoch 19/30\n",
      "196/196 [==============================] - 84s 429ms/step - loss: 0.4875 - accuracy: 0.8279 - val_loss: 0.6348 - val_accuracy: 0.7870\n",
      "Epoch 20/30\n",
      "196/196 [==============================] - 85s 432ms/step - loss: 0.4598 - accuracy: 0.8377 - val_loss: 0.6418 - val_accuracy: 0.7885\n",
      "Epoch 21/30\n",
      "196/196 [==============================] - 84s 430ms/step - loss: 0.4582 - accuracy: 0.8353 - val_loss: 0.6240 - val_accuracy: 0.7934\n",
      "Epoch 22/30\n",
      "196/196 [==============================] - 81s 412ms/step - loss: 0.4382 - accuracy: 0.8429 - val_loss: 0.6187 - val_accuracy: 0.7963\n",
      "Epoch 23/30\n",
      "196/196 [==============================] - 80s 409ms/step - loss: 0.4307 - accuracy: 0.8449 - val_loss: 0.6243 - val_accuracy: 0.7938\n",
      "Epoch 24/30\n",
      "196/196 [==============================] - 80s 410ms/step - loss: 0.4146 - accuracy: 0.8523 - val_loss: 0.6542 - val_accuracy: 0.7862\n",
      "Epoch 25/30\n",
      "196/196 [==============================] - 81s 416ms/step - loss: 0.4039 - accuracy: 0.8564 - val_loss: 0.6289 - val_accuracy: 0.7931\n",
      "Epoch 26/30\n",
      "196/196 [==============================] - 81s 416ms/step - loss: 0.3952 - accuracy: 0.8607 - val_loss: 0.6334 - val_accuracy: 0.7963\n",
      "Epoch 27/30\n",
      "196/196 [==============================] - 81s 415ms/step - loss: 0.3836 - accuracy: 0.8640 - val_loss: 0.6326 - val_accuracy: 0.7925\n",
      "Epoch 28/30\n",
      "196/196 [==============================] - 80s 409ms/step - loss: 0.3773 - accuracy: 0.8664 - val_loss: 0.6209 - val_accuracy: 0.7964\n",
      "Epoch 29/30\n",
      "196/196 [==============================] - 80s 410ms/step - loss: 0.3595 - accuracy: 0.8719 - val_loss: 0.6696 - val_accuracy: 0.7890\n",
      "Epoch 30/30\n",
      "196/196 [==============================] - 80s 411ms/step - loss: 0.3646 - accuracy: 0.8685 - val_loss: 0.6297 - val_accuracy: 0.7949\n"
     ]
    }
   ],
   "source": [
    "train_model(model, x_train, y_train, x_test, y_test)"
   ]
  },
  {
   "cell_type": "code",
   "execution_count": 72,
   "id": "1111aedc",
   "metadata": {},
   "outputs": [
    {
     "name": "stdout",
     "output_type": "stream",
     "text": [
      "[INFO] loss: 0.6297, acc: 0.7949\n"
     ]
    }
   ],
   "source": [
    "## Test your current model and predict some images with it\n",
    "(loss, acc) = model.evaluate(x=x_test, y=y_test, verbose=0)\n",
    "print(\"[INFO] loss: {:.4f}, acc: {:.4f}\".format(loss, acc))"
   ]
  },
  {
   "cell_type": "code",
   "execution_count": 726,
   "id": "513e6a9f",
   "metadata": {},
   "outputs": [],
   "source": [
    "loss_fn = tf.keras.losses.Poisson() #tf.keras.losses.CategoricalCrossentropy()"
   ]
  },
  {
   "cell_type": "markdown",
   "id": "4fe6e7ba",
   "metadata": {},
   "source": [
    "# Generating the adversarial examples:\n",
    "I tried generating adversarial examples using the methods: Fast Gradient Sign Method (FGSM), Basic Iterative Method and at last the Iterative Least-Likely Class Method, which performed best in my case. The following method \"generate_image_adversary\" implements the last method."
   ]
  },
  {
   "cell_type": "code",
   "execution_count": 2335,
   "id": "9ee2c63a",
   "metadata": {},
   "outputs": [],
   "source": [
    "def generate_image_adversary(model, image, label, eps=2 /255.0):\n",
    "    # cast the image\n",
    "    image = tf.cast(image, tf.float32)\n",
    "    # record our gradients\n",
    "    with tf.GradientTape() as tape:\n",
    "        # explicitly indicate that our image should be tacked for\n",
    "        # gradient updates\n",
    "        tape.watch(image)\n",
    "        # use our model to make predictions on the input image and\n",
    "        # then compute the loss\n",
    "        pred = model(image)\n",
    "        #loss = loss_fn(label, pred)\n",
    "        loss = loss_fn(pred, label)\n",
    "        #loss = tf.keras.losses.MSE(label, pred)\n",
    "    # calculate the gradients of loss with respect to the image, then\n",
    "    # compute the sign of the gradient\n",
    "    gradient = tape.gradient(loss, image)#+0.005\n",
    "    signedGrad = tf.sign(gradient) \n",
    "    # construct the image adversary\n",
    "    #adversary = (image + (signedGrad * eps)).numpy()\n",
    "    adversary = (image - 0.5*(signedGrad * eps)).numpy()\n",
    "    # return the image adversary to the calling function\n",
    "    adversary = np.clip(adversary, 0, 1).astype(\"float32\")\n",
    "    return adversary"
   ]
  },
  {
   "cell_type": "code",
   "execution_count": 2336,
   "id": "b2bbabd7",
   "metadata": {},
   "outputs": [
    {
     "name": "stdout",
     "output_type": "stream",
     "text": [
      "img_to_test.shape=(32, 32, 3)\n",
      "label_to_test.shape=(10,)\n"
     ]
    }
   ],
   "source": [
    "index_indices = 13\n",
    "img_to_test = x_train[indices[index_indices]]\n",
    "print(f'{img_to_test.shape=}')\n",
    "label_to_test = y_train[indices[index_indices]]\n",
    "print(f'{label_to_test.shape=}')"
   ]
  },
  {
   "cell_type": "code",
   "execution_count": 2337,
   "id": "42ffc3f1",
   "metadata": {},
   "outputs": [
    {
     "data": {
      "text/plain": [
       "3"
      ]
     },
     "execution_count": 2337,
     "metadata": {},
     "output_type": "execute_result"
    }
   ],
   "source": [
    "np.argmax(label_to_test)"
   ]
  },
  {
   "cell_type": "code",
   "execution_count": 2039,
   "id": "7b5a38a2",
   "metadata": {},
   "outputs": [
    {
     "data": {
      "text/plain": [
       "4"
      ]
     },
     "execution_count": 2039,
     "metadata": {},
     "output_type": "execute_result"
    }
   ],
   "source": [
    "np.argmax(model.predict(img_to_test.reshape(1, 32, 32, 3)))"
   ]
  },
  {
   "cell_type": "code",
   "execution_count": 2068,
   "id": "309cade0",
   "metadata": {},
   "outputs": [],
   "source": [
    "adversary = generate_image_adversary(model,\n",
    "                         img_to_test.reshape(1, 32, 32, 3), label_to_test.reshape(1,10), eps=0.1) #0.1"
   ]
  },
  {
   "cell_type": "code",
   "execution_count": 2041,
   "id": "1852d0cf",
   "metadata": {},
   "outputs": [],
   "source": [
    "pred_adv = model.predict(adversary)\n",
    "adversary = adversary.reshape(32,32,3)"
   ]
  },
  {
   "cell_type": "code",
   "execution_count": 2046,
   "id": "9a86b0fc",
   "metadata": {},
   "outputs": [
    {
     "data": {
      "text/plain": [
       "(1, 10)"
      ]
     },
     "execution_count": 2046,
     "metadata": {},
     "output_type": "execute_result"
    }
   ],
   "source": [
    "pred_adv.shape"
   ]
  },
  {
   "cell_type": "code",
   "execution_count": 2048,
   "id": "078a263b",
   "metadata": {},
   "outputs": [
    {
     "data": {
      "text/plain": [
       "4"
      ]
     },
     "execution_count": 2048,
     "metadata": {},
     "output_type": "execute_result"
    }
   ],
   "source": [
    "np.argmax(pred_adv)"
   ]
  },
  {
   "cell_type": "code",
   "execution_count": null,
   "id": "38887849",
   "metadata": {},
   "outputs": [],
   "source": [
    "*****************************************"
   ]
  },
  {
   "cell_type": "code",
   "execution_count": 2338,
   "id": "a3ed267e",
   "metadata": {},
   "outputs": [],
   "source": [
    "img_to_test = img_to_test.reshape(1, 32, 32, 3)"
   ]
  },
  {
   "cell_type": "code",
   "execution_count": 2339,
   "id": "ccbeaffa",
   "metadata": {},
   "outputs": [],
   "source": [
    "least_likely_class = np.argmin(model.predict(img_to_test), 1)"
   ]
  },
  {
   "cell_type": "code",
   "execution_count": 2340,
   "id": "8a2bc09e",
   "metadata": {},
   "outputs": [
    {
     "name": "stdout",
     "output_type": "stream",
     "text": [
      "(1, 10)\n"
     ]
    }
   ],
   "source": [
    "one_hot_ll_class = tf.one_hot(least_likely_class, 10)\n",
    "print(one_hot_ll_class.shape)"
   ]
  },
  {
   "cell_type": "code",
   "execution_count": 2341,
   "id": "cc8af9ca",
   "metadata": {},
   "outputs": [],
   "source": [
    "adversary_least_likely = generate_image_adversary(model,\n",
    "                         img_to_test.reshape(1, 32, 32, 3), one_hot_ll_class, eps=0.1) #0.1"
   ]
  },
  {
   "cell_type": "code",
   "execution_count": 2342,
   "id": "36c22946",
   "metadata": {},
   "outputs": [],
   "source": [
    "adversary_least_likely=adversary_least_likely.reshape(1, 32, 32, 3)"
   ]
  },
  {
   "cell_type": "code",
   "execution_count": 2343,
   "id": "4ab838f2",
   "metadata": {},
   "outputs": [
    {
     "name": "stdout",
     "output_type": "stream",
     "text": [
      "9\n"
     ]
    }
   ],
   "source": [
    "pred_adv_least_likely = model.predict(adversary_least_likely)\n",
    "adversary_least_likely = adversary_least_likely.reshape(32,32,3)\n",
    "print(np.argmax(pred_adv_least_likely))"
   ]
  },
  {
   "cell_type": "code",
   "execution_count": 2344,
   "id": "7d2b1ffb",
   "metadata": {},
   "outputs": [
    {
     "data": {
      "text/plain": [
       "9"
      ]
     },
     "execution_count": 2344,
     "metadata": {},
     "output_type": "execute_result"
    }
   ],
   "source": [
    "pred_from_server(adversary_least_likely)"
   ]
  },
  {
   "cell_type": "code",
   "execution_count": 2345,
   "id": "1e6a2a8f",
   "metadata": {},
   "outputs": [
    {
     "data": {
      "text/plain": [
       "<matplotlib.image.AxesImage at 0x7f614c4c2eb0>"
      ]
     },
     "execution_count": 2345,
     "metadata": {},
     "output_type": "execute_result"
    },
    {
     "data": {
      "image/png": "[encoded data removed]",
      "text/plain": [
       "<Figure size 432x288 with 1 Axes>"
      ]
     },
     "metadata": {
      "needs_background": "light"
     },
     "output_type": "display_data"
    }
   ],
   "source": [
    "plt.imshow(img_to_test.reshape(32, 32, 3))"
   ]
  },
  {
   "cell_type": "code",
   "execution_count": 2346,
   "id": "53cdfef6",
   "metadata": {},
   "outputs": [
    {
     "data": {
      "text/plain": [
       "<matplotlib.image.AxesImage at 0x7f614c4c0460>"
      ]
     },
     "execution_count": 2346,
     "metadata": {},
     "output_type": "execute_result"
    },
    {
     "data": {
      "image/png": "[encoded data removed]",
      "text/plain": [
       "<Figure size 432x288 with 1 Axes>"
      ]
     },
     "metadata": {
      "needs_background": "light"
     },
     "output_type": "display_data"
    }
   ],
   "source": [
    "plt.imshow(adversary_least_likely)"
   ]
  },
  {
   "cell_type": "code",
   "execution_count": 480,
   "id": "0387fb2e",
   "metadata": {},
   "outputs": [
    {
     "data": {
      "text/plain": [
       "(32, 32, 3)"
      ]
     },
     "execution_count": 480,
     "metadata": {},
     "output_type": "execute_result"
    },
    {
     "data": {
      "image/png": "[encoded data removed]",
      "text/plain": [
       "<Figure size 432x288 with 1 Axes>"
      ]
     },
     "metadata": {
      "needs_background": "light"
     },
     "output_type": "display_data"
    }
   ],
   "source": [
    "plt.imshow(x_train[indices[0]])\n",
    "x_train[indices[0]].shape"
   ]
  },
  {
   "cell_type": "code",
   "execution_count": 481,
   "id": "8111ebf5",
   "metadata": {},
   "outputs": [],
   "source": [
    "imgs = [generate_image_adversary(model,\n",
    "                         x_train[i].reshape(1, 32, 32, 3), y_train[i], eps=0.03) for i in indices]"
   ]
  },
  {
   "cell_type": "code",
   "execution_count": 482,
   "id": "e6f90564",
   "metadata": {},
   "outputs": [],
   "source": [
    "imgs = np.vstack(imgs)"
   ]
  },
  {
   "cell_type": "code",
   "execution_count": 483,
   "id": "b5b86625",
   "metadata": {},
   "outputs": [
    {
     "data": {
      "text/plain": [
       "(100, 32, 32, 3)"
      ]
     },
     "execution_count": 483,
     "metadata": {},
     "output_type": "execute_result"
    }
   ],
   "source": [
    "imgs.shape"
   ]
  },
  {
   "cell_type": "code",
   "execution_count": 484,
   "id": "db6e2fbd",
   "metadata": {},
   "outputs": [],
   "source": [
    "data = imgs.tobytes()"
   ]
  },
  {
   "cell_type": "code",
   "execution_count": 485,
   "id": "48b365be",
   "metadata": {},
   "outputs": [
    {
     "data": {
      "text/plain": [
       "5"
      ]
     },
     "execution_count": 485,
     "metadata": {},
     "output_type": "execute_result"
    }
   ],
   "source": [
    "challenge_id"
   ]
  },
  {
   "cell_type": "code",
   "execution_count": 2362,
   "id": "c1ab802a",
   "metadata": {},
   "outputs": [],
   "source": [
    "url_solve_challenge = f\"{host}/evasion/api/solve_challenge/{challenge_id}\""
   ]
  },
  {
   "cell_type": "code",
   "execution_count": 487,
   "id": "331e5982",
   "metadata": {},
   "outputs": [],
   "source": [
    "response_solve_challenge = requests.post(url_solve_challenge,\n",
    "                                            data = data,\n",
    "                                            headers = headers)"
   ]
  },
  {
   "cell_type": "code",
   "execution_count": 488,
   "id": "d890d453",
   "metadata": {},
   "outputs": [
    {
     "name": "stdout",
     "output_type": "stream",
     "text": [
      "500\n"
     ]
    }
   ],
   "source": [
    "print(response_solve_challenge.status_code)"
   ]
  },
  {
   "cell_type": "code",
   "execution_count": 489,
   "id": "1140470e",
   "metadata": {},
   "outputs": [
    {
     "name": "stdout",
     "output_type": "stream",
     "text": [
      "\n",
      "<!doctype html>\n",
      "<html lang=\"en\">\n",
      "<head>\n",
      "  <title>Server Error (500)</title>\n",
      "</head>\n",
      "<body>\n",
      "  <h1>Server Error (500)</h1><p></p>\n",
      "</body>\n",
      "</html>\n",
      "\n"
     ]
    }
   ],
   "source": [
    "print(response_solve_challenge.text)"
   ]
  },
  {
   "cell_type": "code",
   "execution_count": null,
   "id": "4bbf28fd",
   "metadata": {},
   "outputs": [],
   "source": [
    "# adversary_least_likely\n",
    "#tf.one_hot(np.argmin(model.predict(y_train[i].reshape(1, 32, 32, 3)), 1), 10)"
   ]
  },
  {
   "cell_type": "code",
   "execution_count": 2354,
   "id": "6b3c0c18",
   "metadata": {},
   "outputs": [],
   "source": [
    "imgs = [generate_image_adversary(model,\n",
    "                         x_train[i].reshape(1, 32, 32, 3), tf.one_hot(np.argmin(model.predict(x_train[i].reshape(1, 32, 32, 3)), 1), 10), eps=0.1) for i in indices]"
   ]
  },
  {
   "cell_type": "code",
   "execution_count": 2355,
   "id": "af2dede3",
   "metadata": {},
   "outputs": [],
   "source": [
    "imgs = np.vstack(imgs)"
   ]
  },
  {
   "cell_type": "code",
   "execution_count": 2356,
   "id": "04174054",
   "metadata": {},
   "outputs": [
    {
     "data": {
      "text/plain": [
       "(100, 32, 32, 3)"
      ]
     },
     "execution_count": 2356,
     "metadata": {},
     "output_type": "execute_result"
    }
   ],
   "source": [
    "imgs.shape"
   ]
  },
  {
   "cell_type": "code",
   "execution_count": 2357,
   "id": "3ff7fd5d",
   "metadata": {},
   "outputs": [],
   "source": [
    "data = imgs.tobytes()"
   ]
  },
  {
   "cell_type": "code",
   "execution_count": 2358,
   "id": "dc6f881f",
   "metadata": {},
   "outputs": [
    {
     "data": {
      "text/plain": [
       "7"
      ]
     },
     "execution_count": 2358,
     "metadata": {},
     "output_type": "execute_result"
    }
   ],
   "source": [
    "challenge_id"
   ]
  },
  {
   "cell_type": "code",
   "execution_count": 2363,
   "id": "bca498fb",
   "metadata": {},
   "outputs": [],
   "source": [
    "response_solve_challenge = requests.post(url_solve_challenge,\n",
    "                                            data = data,\n",
    "                                            headers = headers)"
   ]
  },
  {
   "cell_type": "code",
   "execution_count": 2364,
   "id": "c75feec6",
   "metadata": {},
   "outputs": [
    {
     "name": "stdout",
     "output_type": "stream",
     "text": [
      "200\n"
     ]
    }
   ],
   "source": [
    "print(response_solve_challenge.status_code)"
   ]
  },
  {
   "cell_type": "code",
   "execution_count": 2365,
   "id": "b955d80f",
   "metadata": {},
   "outputs": [
    {
     "name": "stdout",
     "output_type": "stream",
     "text": [
      "eyJub25jZSI6ICI3cUJGV3ZtNGJLLzVoQTNNKzdocm1RPT0iLCAidG9rZW4iOiAiQ2xIZXFMaGpjS0U5TEV3b0d4TUZoNFNjUS9RTm51aHMzSnM5bXhaM01PdGZEM2RndlNHRkVuTTVDRFlDZ1FLYk1VamFRTHUya2s5R1VNWW5wOVhBOVR0dkZhMVRPRnZLVkdseS9wc3Uxbmtza1BCUDBTTVZVTXIxTzdHSVROSk5JS20wUVRoK2p0S1doeitVc0RjK1Z2YitUWVVzZzVhQnJFbExpZ0JZRDA5WThZdTJZeDUyZmR4T3V1Z29ZdzBSRDY3V0tnPT0iLCAidGFnIjogImY2S3crQTMxNEI3MWJUNWxOQ2s5c2c9PSJ9\n"
     ]
    }
   ],
   "source": [
    "print(response_solve_challenge.text)"
   ]
  },
  {
   "cell_type": "code",
   "execution_count": null,
   "id": "091286f8",
   "metadata": {},
   "outputs": [],
   "source": []
  }
 ],
 "metadata": {
  "kernelspec": {
   "display_name": "Python 3 (ipykernel)",
   "language": "python",
   "name": "python3"
  },
  "language_info": {
   "codemirror_mode": {
    "name": "ipython",
    "version": 3
   },
   "file_extension": ".py",
   "mimetype": "text/x-python",
   "name": "python",
   "nbconvert_exporter": "python",
   "pygments_lexer": "ipython3",
   "version": "3.8.10"
  }
 },
 "nbformat": 4,
 "nbformat_minor": 5
}
